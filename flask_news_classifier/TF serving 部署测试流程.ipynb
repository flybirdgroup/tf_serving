{
 "cells": [
  {
   "cell_type": "markdown",
   "metadata": {},
   "source": [
    "# TF Serving工作流程"
   ]
  },
  {
   "cell_type": "markdown",
   "metadata": {},
   "source": [
    "![img](./img/tf2.png)\n",
    "\n",
    "TF Serving的工作流程主要分为以下几个步骤：\n",
    "\n",
    "- Source会针对需要进行加载的模型创建一个Loader，Loader中会包含要加载模型的全部信息；\n",
    "- Source通知Manager有新的模型需要进行加载；\n",
    "- Manager通过版本管理策略（Version Policy）来确定哪些模型需要被下架，哪些模型需要被加载；\n",
    "- Manger在确认需要加载的模型符合加载策略，便通知Loader来加载最新的模型；\n",
    "- 客户端像服务端请求模型结果时，可以指定模型的版本，也可以使用最新模型的结果；\n",
    "\n",
    "\n",
    "\n",
    "#### 简单示例\n",
    "\n",
    "TF Serving客户端和服务端的通信方式有两种（gRPC和RESTfull API）\n",
    "\n",
    "##### 我这里用的是RESTfull API形式\n",
    "\n",
    "- **1. 准备TF Serving的Docker环境**\n",
    "\n",
    "目前TF Serving有Docker、APT（二级制安装）和源码编译三种方式，我使用使用Docker方式。\n",
    "\n",
    "```shell\n",
    "docker pull tensorflow/serving\n",
    "```\n",
    "\n",
    "- **2. 下载官方示例代码**\n",
    "\n",
    "示例代码中包含已训练好的模型和与服务端进行通信的客户端（RESTfull API形式不需要专门的客户端）\n",
    "\n",
    "```shell\n",
    "mkdir -p /tmp/tfserving\n",
    "cd /tmp/tfserving\n",
    "git clone https://github.com/tensorflow/serving\n",
    "```\n",
    "\n",
    "- **3. 运行TF Serving**\n",
    "\n",
    "```shell\n",
    "docker run -p 8501:8501 \\\n",
    "  --mount type=bind,\\\n",
    "   source=/tmp/tfserving/serving/tensorflow_serving/servables/tensorflow/testdata/saved_model_half_plus_two_cpu,\\\n",
    "target=/models/half_plus_two \\\n",
    "-e MODEL_NAME=half_plus_two -t tensorflow/serving &\n",
    "```\n",
    "\n",
    "这里需要注意的是，较早的docker版本没有“--mount”选项，比如Ubuntu16.04默认安装的docker就没有（我的环境是Ubuntu 18.04）。\n",
    "\n",
    "- **4.客户端验证**\n",
    "\n",
    "```shell\n",
    "curl -d '{\"instances\": [1.0, 2.0, 5.0]}' \\\n",
    "  -X POST http://localhost:8501/v1/models/half_plus_two:predict \n",
    "```\n",
    "\n",
    "返回结果，\n",
    "\n",
    "```shell\n",
    "{ \"predictions\": [2.5, 3.0, 4.5] }\n",
    "```\n",
    "\n",
    "![img](./img/tf1.png)"
   ]
  },
  {
   "cell_type": "code",
   "execution_count": null,
   "metadata": {},
   "outputs": [],
   "source": []
  }
 ],
 "metadata": {
  "kernelspec": {
   "display_name": "Python 3",
   "language": "python",
   "name": "python3"
  },
  "language_info": {
   "codemirror_mode": {
    "name": "ipython",
    "version": 3
   },
   "file_extension": ".py",
   "mimetype": "text/x-python",
   "name": "python",
   "nbconvert_exporter": "python",
   "pygments_lexer": "ipython3",
   "version": "3.6.8"
  },
  "toc": {
   "base_numbering": 1,
   "nav_menu": {},
   "number_sections": true,
   "sideBar": true,
   "skip_h1_title": false,
   "title_cell": "Table of Contents",
   "title_sidebar": "Contents",
   "toc_cell": false,
   "toc_position": {},
   "toc_section_display": true,
   "toc_window_display": false
  }
 },
 "nbformat": 4,
 "nbformat_minor": 2
}
